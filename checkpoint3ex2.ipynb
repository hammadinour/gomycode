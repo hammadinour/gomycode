{
  "nbformat": 4,
  "nbformat_minor": 0,
  "metadata": {
    "colab": {
      "provenance": [],
      "authorship_tag": "ABX9TyN7qzUpt176FShzkXrspCEr",
      "include_colab_link": true
    },
    "kernelspec": {
      "name": "python3",
      "display_name": "Python 3"
    },
    "language_info": {
      "name": "python"
    }
  },
  "cells": [
    {
      "cell_type": "markdown",
      "metadata": {
        "id": "view-in-github",
        "colab_type": "text"
      },
      "source": [
        "<a href=\"https://colab.research.google.com/github/hammadinour/gomycode/blob/main/checkpoint3ex2.ipynb\" target=\"_parent\"><img src=\"https://colab.research.google.com/assets/colab-badge.svg\" alt=\"Open In Colab\"/></a>"
      ]
    },
    {
      "cell_type": "code",
      "source": [
        "tuple1 =(2,5)\n",
        "tuple2 =(1,2)\n",
        "tuple3 =(4,4)\n",
        "tuple4 =(2,3)\n",
        "tuple5 =(2,1)\n",
        "list = [tuple1 ,tuple2 ,tuple3 ,tuple4 ,tuple5 ]\n",
        "\n",
        "\n",
        "def diffsort(tuple) :\n",
        "  return tuple[1]\n",
        "list.sort(key=diffsort)\n",
        "\n"
      ],
      "metadata": {
        "id": "lur5H3E5mRDZ",
        "outputId": "ccfe6c7d-a35d-4773-9c09-c1daf117bee5",
        "colab": {
          "base_uri": "https://localhost:8080/"
        }
      },
      "execution_count": 103,
      "outputs": [
        {
          "output_type": "stream",
          "name": "stdout",
          "text": [
            "5\n",
            "[(2, 5), (1, 2), (4, 4), (2, 3), (2, 1)]\n",
            "[(2, 1), (1, 2), (2, 3), (4, 4), (2, 5)]\n"
          ]
        }
      ]
    }
  ]
}