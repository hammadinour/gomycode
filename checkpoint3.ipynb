{
  "nbformat": 4,
  "nbformat_minor": 0,
  "metadata": {
    "colab": {
      "provenance": [],
      "authorship_tag": "ABX9TyNgRjoVjK4QTphKAEjQAxxm",
      "include_colab_link": true
    },
    "kernelspec": {
      "name": "python3",
      "display_name": "Python 3"
    },
    "language_info": {
      "name": "python"
    }
  },
  "cells": [
    {
      "cell_type": "markdown",
      "metadata": {
        "id": "view-in-github",
        "colab_type": "text"
      },
      "source": [
        "<a href=\"https://colab.research.google.com/github/hammadinour/gomycode/blob/main/checkpoint3.ipynb\" target=\"_parent\"><img src=\"https://colab.research.google.com/assets/colab-badge.svg\" alt=\"Open In Colab\"/></a>"
      ]
    },
    {
      "cell_type": "code",
      "source": [
        "#question 1\n",
        "list =[2,3,6]\n",
        "i=0\n",
        "result = 1\n",
        "while i<len(list) :\n",
        "   result = result * list[i]\n",
        "   i=i+1\n",
        "print(result)"
      ],
      "metadata": {
        "id": "9mM39_7smnUb"
      },
      "execution_count": null,
      "outputs": []
    },
    {
      "cell_type": "code",
      "source": [
        "#question 2\n",
        "tuple1 =(2,5)\n",
        "tuple2 =(1,2)\n",
        "tuple3 =(4,4)\n",
        "tuple4 =(2,3)\n",
        "tuple5 =(2,1)\n",
        "list = [tuple1 ,tuple2 ,tuple3 ,tuple4 ,tuple5 ]\n",
        "\n",
        "\n",
        "def diffsort(tuple) :\n",
        "  return tuple[1]\n",
        "list.sort(key=diffsort)\n",
        "\n"
      ],
      "metadata": {
        "id": "lur5H3E5mRDZ"
      },
      "execution_count": null,
      "outputs": []
    },
    {
      "cell_type": "code",
      "source": [
        "#question 3\n",
        "d1 = {'a': 100, 'b': 200, 'c':300}\n",
        "d2 = {'a': 300, 'b': 200, 'd':400}\n",
        "d3 = d1.copy()\n",
        "d3.update (d2)\n",
        "print(d3)\n",
        "for key in d1 :\n",
        "  if key in d2 :\n",
        "    d3[key]=d1[key]+d3[key]\n",
        "print(d3)"
      ],
      "metadata": {
        "id": "K_20fQ-hxQVd",
        "outputId": "da0d8fb9-0db3-4589-f405-5e90a8facbba",
        "colab": {
          "base_uri": "https://localhost:8080/"
        }
      },
      "execution_count": 55,
      "outputs": [
        {
          "output_type": "stream",
          "name": "stdout",
          "text": [
            "{'a': 300, 'b': 200, 'c': 300, 'd': 400}\n",
            "{'a': 400, 'b': 400, 'c': 300, 'd': 400}\n"
          ]
        }
      ]
    },
    {
      "cell_type": "code",
      "source": [
        "#question 5\n",
        "tuple1 =('item1', '12.20')\n",
        "tuple2 =('item2', '15.10')\n",
        "tuple3 =('item3', '24.5')\n",
        "list = [tuple1 ,tuple2 ,tuple3]\n",
        "\n",
        "\n",
        "def diffsort(tuple) :\n",
        "  return tuple[1]\n",
        "list.sort(key=diffsort,reverse= True)\n",
        "print (list)"
      ],
      "metadata": {
        "id": "TV0lD6ibhhFR"
      },
      "execution_count": null,
      "outputs": []
    },
    {
      "cell_type": "code",
      "source": [
        "#question 6\n",
        "set={0, 1, 2, 3, 4}\n",
        "print(set)\n",
        "print ('would you like to add something to this set')\n",
        "set.add(int(input()))\n",
        "print(set)\n",
        "print('would you like to remove something from this set')\n",
        "set.remove(int(input()))\n",
        "print(set)\n",
        "\n",
        ""
      ],
      "metadata": {
        "id": "3ka4gdb2jmeb"
      },
      "execution_count": null,
      "outputs": []
    },
    {
      "cell_type": "code",
      "source": [
        "#question 4\n",
        "dict ={i:i*i}\n",
        "n=8\n",
        "i=1\n",
        "print (dict)\n",
        "while i<=n :\n",
        " dict[i]=i*i\n",
        " i=i+1\n",
        "print (dict)"
      ],
      "metadata": {
        "id": "nqAwRzx9nAK4",
        "outputId": "b8c8a58e-d88c-4691-be31-132966daca3a",
        "colab": {
          "base_uri": "https://localhost:8080/"
        }
      },
      "execution_count": 30,
      "outputs": [
        {
          "output_type": "stream",
          "name": "stdout",
          "text": [
            "{9: 81}\n",
            "{9: 81, 1: 1, 2: 4, 3: 9, 4: 16, 5: 25, 6: 36, 7: 49, 8: 64}\n"
          ]
        }
      ]
    }
  ]
}