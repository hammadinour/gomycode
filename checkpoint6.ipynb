{
  "nbformat": 4,
  "nbformat_minor": 0,
  "metadata": {
    "colab": {
      "provenance": [],
      "authorship_tag": "ABX9TyM8poefGLj0JzCs6VZYHqVQ",
      "include_colab_link": true
    },
    "kernelspec": {
      "name": "python3",
      "display_name": "Python 3"
    },
    "language_info": {
      "name": "python"
    }
  },
  "cells": [
    {
      "cell_type": "markdown",
      "metadata": {
        "id": "view-in-github",
        "colab_type": "text"
      },
      "source": [
        "<a href=\"https://colab.research.google.com/github/hammadinour/gomycode/blob/main/checkpoint6.ipynb\" target=\"_parent\"><img src=\"https://colab.research.google.com/assets/colab-badge.svg\" alt=\"Open In Colab\"/></a>"
      ]
    },
    {
      "cell_type": "code",
      "source": [
        "# solution\n",
        "i=int(0)\n",
        "def produit (l,x):\n",
        " i = 0\n",
        " while i <= (len(l) - 1 ) :\n",
        "    l[i] =(int(l[i]) * x)\n",
        "    i=i+1\n",
        " print(l)\n",
        "produit([2,3,4],2)"
      ],
      "metadata": {
        "id": "5SDWbPNHzw1-"
      },
      "execution_count": null,
      "outputs": []
    },
    {
      "cell_type": "code",
      "source": [
        "for (i = 0; i < rows; i++) {\n",
        "  for (j = 0; j < columns; j++) {\n",
        "    c[i][j] = a[i][j]*b[i][j];\n",
        "  }\n",
        "}"
      ],
      "metadata": {
        "id": "SDvuJ5XD_nrk"
      },
      "execution_count": null,
      "outputs": []
    },
    {
      "cell_type": "code",
      "source": [
        "import numpy as np\n",
        "\n",
        "students_num =int (input('enter the number of students'))\n",
        "subjects_num = int(input('enter the number of subjects'))\n",
        "new = np.array ((students_num,subjects_num))\n",
        "print (new)\n",
        "i=1\n",
        "j=1\n",
        "while i <= students_num :\n",
        "  while j<= subjects_num :\n",
        "   list_i = [input('insert marks')]\n",
        "   i+=1\n",
        "   list_i.append(input('next mark'))\n",
        "   j+=1\n",
        "   print (list_i)"
      ],
      "metadata": {
        "id": "Lde0QRT_BjLF"
      },
      "execution_count": null,
      "outputs": []
    },
    {
      "cell_type": "code",
      "source": [
        "import numpy as np\n",
        "\n",
        "students_num =int (input('enter the number of students'))\n",
        "subjects_num = int(input('enter the number of subjects'))\n",
        "new = np.array ((students_num,subjects_num))\n",
        "array=np.zeros(students_num)\n",
        "print(array)\n",
        "print (new[:,2])\n"
      ],
      "metadata": {
        "id": "89EurqRHMRdm",
        "outputId": "3cbf29ae-732a-4799-8a8d-9cf2ccafa731",
        "colab": {
          "base_uri": "https://localhost:8080/",
          "height": 254
        }
      },
      "execution_count": 78,
      "outputs": [
        {
          "output_type": "stream",
          "name": "stdout",
          "text": [
            "enter the number of students5\n",
            "enter the number of subjects4\n",
            "[0. 0. 0. 0. 0.]\n"
          ]
        },
        {
          "output_type": "error",
          "ename": "IndexError",
          "evalue": "ignored",
          "traceback": [
            "\u001b[0;31m---------------------------------------------------------------------------\u001b[0m",
            "\u001b[0;31mIndexError\u001b[0m                                Traceback (most recent call last)",
            "\u001b[0;32m<ipython-input-78-65cd44c90bd4>\u001b[0m in \u001b[0;36m<cell line: 8>\u001b[0;34m()\u001b[0m\n\u001b[1;32m      6\u001b[0m \u001b[0marray\u001b[0m\u001b[0;34m=\u001b[0m\u001b[0mnp\u001b[0m\u001b[0;34m.\u001b[0m\u001b[0mzeros\u001b[0m\u001b[0;34m(\u001b[0m\u001b[0mstudents_num\u001b[0m\u001b[0;34m)\u001b[0m\u001b[0;34m\u001b[0m\u001b[0;34m\u001b[0m\u001b[0m\n\u001b[1;32m      7\u001b[0m \u001b[0mprint\u001b[0m\u001b[0;34m(\u001b[0m\u001b[0marray\u001b[0m\u001b[0;34m)\u001b[0m\u001b[0;34m\u001b[0m\u001b[0;34m\u001b[0m\u001b[0m\n\u001b[0;32m----> 8\u001b[0;31m \u001b[0mprint\u001b[0m \u001b[0;34m(\u001b[0m\u001b[0mnew\u001b[0m\u001b[0;34m[\u001b[0m\u001b[0;34m:\u001b[0m\u001b[0;34m,\u001b[0m\u001b[0;36m2\u001b[0m\u001b[0;34m]\u001b[0m\u001b[0;34m)\u001b[0m\u001b[0;34m\u001b[0m\u001b[0;34m\u001b[0m\u001b[0m\n\u001b[0m",
            "\u001b[0;31mIndexError\u001b[0m: too many indices for array: array is 1-dimensional, but 2 were indexed"
          ]
        }
      ]
    },
    {
      "cell_type": "code",
      "source": [
        "import numpy as np\n",
        "new = np.array ((students_num,subjects_num))\n",
        "students_num =int (input('enter the number of students'))\n",
        "subjects_num = int(input('enter the number of subjects'))\n",
        "i=1\n",
        "j=1\n",
        "n=subjects_num\n",
        "while i <= students_num :\n",
        "  list_i =[]\n",
        "  while j <= n :\n",
        "    list_i.insert(0,input('insert mark'))\n",
        "    j+=1\n",
        "  i+=1\n",
        "  print('list',i,'=',list_i)\n",
        "  j=1\n",
        "\n",
        "print(new)\n"
      ],
      "metadata": {
        "id": "p4Am5iV8Mc3t"
      },
      "execution_count": null,
      "outputs": []
    },
    {
      "cell_type": "markdown",
      "source": [
        "Ask the user to enter the marks of each student in each subject.\n",
        "Calculate the total marks for each student using the sum() function of Numpy.\n",
        "Calculate the percentage for each student using the total marks and the formula: percentage = (total marks / (number of subjects * 100)) * 100"
      ],
      "metadata": {
        "id": "uh5NFv4gEIS6"
      }
    },
    {
      "cell_type": "code",
      "source": [
        "n=int(input('insert your number : '))\n",
        "x=1\n",
        "for i in range (1,(n+1)) :\n",
        "  x=x*i\n",
        "print('!',n,'=',x)"
      ],
      "metadata": {
        "id": "W6MP7P29exuI"
      },
      "execution_count": null,
      "outputs": []
    }
  ]
}