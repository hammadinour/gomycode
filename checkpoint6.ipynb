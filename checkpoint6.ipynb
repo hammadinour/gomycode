{
  "nbformat": 4,
  "nbformat_minor": 0,
  "metadata": {
    "colab": {
      "provenance": [],
      "authorship_tag": "ABX9TyMbms8npO25WbT9Zk6/XcuN",
      "include_colab_link": true
    },
    "kernelspec": {
      "name": "python3",
      "display_name": "Python 3"
    },
    "language_info": {
      "name": "python"
    }
  },
  "cells": [
    {
      "cell_type": "markdown",
      "metadata": {
        "id": "view-in-github",
        "colab_type": "text"
      },
      "source": [
        "<a href=\"https://colab.research.google.com/github/hammadinour/gomycode/blob/main/checkpoint6.ipynb\" target=\"_parent\"><img src=\"https://colab.research.google.com/assets/colab-badge.svg\" alt=\"Open In Colab\"/></a>"
      ]
    },
    {
      "cell_type": "code",
      "source": [
        "# solution\n",
        "i=int(0)\n",
        "def produit (l,x):\n",
        " i = 0\n",
        " while i <= (len(l) - 1 ) :\n",
        "    l[i] =(int(l[i]) * x)\n",
        "    i=i+1\n",
        " print(l)\n",
        "produit([2,3,4],2)"
      ],
      "metadata": {
        "id": "5SDWbPNHzw1-"
      },
      "execution_count": null,
      "outputs": []
    },
    {
      "cell_type": "markdown",
      "source": [
        "Create a Numpy array to store the marks of each student in each subject. The array should have the shape (number of students, number of subjects)"
      ],
      "metadata": {
        "id": "6-8l3sLzCdFK"
      }
    },
    {
      "cell_type": "code",
      "source": [
        "import numpy as np\n",
        "new = np.array (,students_num)\n",
        "print ('enter the number of students')\n",
        "students_num =int (input())\n",
        "print ('enter the number of subjects')\n",
        "subjects_num = int(input())\n",
        "print (new.reshape(students_num,subjects_num ))"
      ],
      "metadata": {
        "id": "Lde0QRT_BjLF",
        "outputId": "cb0e5b7c-32ec-41c2-f7b5-aabe47faf211",
        "colab": {
          "base_uri": "https://localhost:8080/",
          "height": 235
        }
      },
      "execution_count": 44,
      "outputs": [
        {
          "output_type": "error",
          "ename": "TypeError",
          "evalue": "ignored",
          "traceback": [
            "\u001b[0;31m---------------------------------------------------------------------------\u001b[0m",
            "\u001b[0;31mTypeError\u001b[0m                                 Traceback (most recent call last)",
            "\u001b[0;32m<ipython-input-44-a2ead5445d95>\u001b[0m in \u001b[0;36m<cell line: 2>\u001b[0;34m()\u001b[0m\n\u001b[1;32m      1\u001b[0m \u001b[0;32mimport\u001b[0m \u001b[0mnumpy\u001b[0m \u001b[0;32mas\u001b[0m \u001b[0mnp\u001b[0m\u001b[0;34m\u001b[0m\u001b[0;34m\u001b[0m\u001b[0m\n\u001b[0;32m----> 2\u001b[0;31m \u001b[0mnew\u001b[0m \u001b[0;34m=\u001b[0m \u001b[0mnp\u001b[0m\u001b[0;34m.\u001b[0m\u001b[0marray\u001b[0m \u001b[0;34m(\u001b[0m\u001b[0;36m8\u001b[0m\u001b[0;34m,\u001b[0m\u001b[0mstudents_num\u001b[0m\u001b[0;34m)\u001b[0m\u001b[0;34m\u001b[0m\u001b[0;34m\u001b[0m\u001b[0m\n\u001b[0m\u001b[1;32m      3\u001b[0m \u001b[0mprint\u001b[0m \u001b[0;34m(\u001b[0m\u001b[0;34m'enter the number of students'\u001b[0m\u001b[0;34m)\u001b[0m\u001b[0;34m\u001b[0m\u001b[0;34m\u001b[0m\u001b[0m\n\u001b[1;32m      4\u001b[0m \u001b[0mstudents_num\u001b[0m \u001b[0;34m=\u001b[0m\u001b[0mint\u001b[0m \u001b[0;34m(\u001b[0m\u001b[0minput\u001b[0m\u001b[0;34m(\u001b[0m\u001b[0;34m)\u001b[0m\u001b[0;34m)\u001b[0m\u001b[0;34m\u001b[0m\u001b[0;34m\u001b[0m\u001b[0m\n\u001b[1;32m      5\u001b[0m \u001b[0mprint\u001b[0m \u001b[0;34m(\u001b[0m\u001b[0;34m'enter the number of subjects'\u001b[0m\u001b[0;34m)\u001b[0m\u001b[0;34m\u001b[0m\u001b[0;34m\u001b[0m\u001b[0m\n",
            "\u001b[0;31mTypeError\u001b[0m: Cannot interpret '5' as a data type"
          ]
        }
      ]
    },
    {
      "cell_type": "code",
      "source": [
        "print ('enter the number of students')\n",
        "students_num =int (input())\n",
        "print ('enter the number of subjects')\n",
        "subjects_num = input()"
      ],
      "metadata": {
        "id": "Y19jfHhjHpQ2"
      },
      "execution_count": null,
      "outputs": []
    }
  ]
}