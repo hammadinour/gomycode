{
  "nbformat": 4,
  "nbformat_minor": 0,
  "metadata": {
    "colab": {
      "provenance": [],
      "authorship_tag": "ABX9TyP8DtL0iUrbI5vJyEj4KMlY",
      "include_colab_link": true
    },
    "kernelspec": {
      "name": "python3",
      "display_name": "Python 3"
    },
    "language_info": {
      "name": "python"
    }
  },
  "cells": [
    {
      "cell_type": "markdown",
      "metadata": {
        "id": "view-in-github",
        "colab_type": "text"
      },
      "source": [
        "<a href=\"https://colab.research.google.com/github/hammadinour/gomycode/blob/main/checkpoint4.ipynb\" target=\"_parent\"><img src=\"https://colab.research.google.com/assets/colab-badge.svg\" alt=\"Open In Colab\"/></a>"
      ]
    },
    {
      "cell_type": "code",
      "source": [
        "\n",
        "def addition (a,b):\n",
        "  return a+b\n",
        "def substraction (a,b):\n",
        "  return a-b\n",
        "def multiplication (a,b):\n",
        "  return a*b\n",
        "def division (a,b):\n",
        "  return a/b\n",
        "print ('a=')\n",
        "a=int(input())\n",
        "print('b=')\n",
        "b=int(input())\n",
        "print ('operation?')\n",
        "function = str(input())\n",
        "print ('result=')\n",
        "if function == '+':\n",
        "  print(addition (a,b))\n",
        "elif function == '-' :\n",
        " print( substraction (a,b))\n",
        "elif function == '*' :\n",
        "  print(multiplication (a,b))\n",
        "elif function == '/' :\n",
        "  print (division (a,b))\n"
      ],
      "metadata": {
        "id": "NqQuIhxyXBCq"
      },
      "execution_count": null,
      "outputs": []
    }
  ]
}