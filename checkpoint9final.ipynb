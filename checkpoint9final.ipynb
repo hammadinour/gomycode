{
  "nbformat": 4,
  "nbformat_minor": 0,
  "metadata": {
    "colab": {
      "provenance": [],
      "authorship_tag": "ABX9TyOvjutc81YMXAsZwT40cdlB",
      "include_colab_link": true
    },
    "kernelspec": {
      "name": "python3",
      "display_name": "Python 3"
    },
    "language_info": {
      "name": "python"
    }
  },
  "cells": [
    {
      "cell_type": "markdown",
      "metadata": {
        "id": "view-in-github",
        "colab_type": "text"
      },
      "source": [
        "<a href=\"https://colab.research.google.com/github/hammadinour/gomycode/blob/main/checkpoint9final.ipynb\" target=\"_parent\"><img src=\"https://colab.research.google.com/assets/colab-badge.svg\" alt=\"Open In Colab\"/></a>"
      ]
    },
    {
      "cell_type": "code",
      "source": [
        "#objectif 1 :\n",
        "def binary_search (sequence , item) :\n",
        "  begin_index = 0\n",
        "  end_index = len(sequence)- 1\n",
        "  while begin_index <= end_index :\n",
        "    mid = begin_index +(end_index - begin_index)//2\n",
        "    mid_value = sequence [mid]\n",
        "    if mid_value == item :\n",
        "      return 'true'\n",
        "    elif item < mid_value :\n",
        "      end_index = mid - 1\n",
        "    else :\n",
        "      begin_index = mid + 1\n",
        "  return 'false'\n",
        "\n",
        "A=[1,2,3,5,8]\n",
        "k=6\n",
        "print (binary_search(A, k) )\n"
      ],
      "metadata": {
        "id": "6SchpLKQdUYo"
      },
      "execution_count": null,
      "outputs": []
    },
    {
      "cell_type": "code",
      "source": [
        "#objectif 2 :\n",
        "def power (a,b) :\n",
        "  x=1\n",
        "  p=1\n",
        "  while x <= b :\n",
        "    p=p*a\n",
        "    x=x+1\n",
        "  return p\n",
        "\n",
        "\n",
        "print(power(3,4))"
      ],
      "metadata": {
        "id": "I_cyf-pefVar"
      },
      "execution_count": null,
      "outputs": []
    },
    {
      "cell_type": "code",
      "source": [
        "#objectif 3\n",
        "def bubbleSort(nlist):\n",
        "    for passnum in range(len(nlist)-1,0,-1):\n",
        "        for i in range(passnum):\n",
        "            if nlist[i]>nlist[i+1]:\n",
        "                temp = nlist[i]\n",
        "                nlist[i] = nlist[i+1]\n",
        "                nlist[i+1] = temp\n",
        "    return nlist\n",
        "\n",
        "nlist =  [29,13,22,37,52,49,46,71,56]\n",
        "bubbleSort(nlist)"
      ],
      "metadata": {
        "id": "pfVvrSayhUTC"
      },
      "execution_count": null,
      "outputs": []
    },
    {
      "cell_type": "code",
      "source": [
        "#objectif 4 :\n",
        "def mergeSort(myList):\n",
        "    if len(myList) > 1:\n",
        "        mid = len(myList) // 2\n",
        "        left = myList[:mid]\n",
        "        right = myList[mid:]\n",
        "\n",
        "        # Recursive call on each half\n",
        "        mergeSort(left)\n",
        "        mergeSort(right)\n",
        "\n",
        "        # Two iterators for traversing the two halves\n",
        "        i = 0\n",
        "        j = 0\n",
        "\n",
        "        # Iterator for the main list\n",
        "        k = 0\n",
        "\n",
        "        while i < len(left) and j < len(right):\n",
        "            if left[i] < right[j]:\n",
        "              # The value from the left half has been used\n",
        "              myList[k] = left[i]\n",
        "              # Move the iterator forward\n",
        "              i += 1\n",
        "            else:\n",
        "                myList[k] = right[j]\n",
        "                j += 1\n",
        "            # Move to the next slot\n",
        "            k += 1\n",
        "\n",
        "        # For all the remaining values\n",
        "        while i < len(left):\n",
        "            myList[k] = left[i]\n",
        "            i += 1\n",
        "            k += 1\n",
        "\n",
        "        while j < len(right):\n",
        "            myList[k]=right[j]\n",
        "            j += 1\n",
        "            k += 1\n",
        "\n",
        "myList = [29,13,22,37,52,49,46,71,56]\n",
        "mergeSort(myList)\n",
        "print(myList)"
      ],
      "metadata": {
        "id": "OQ71ZmQmhw_a"
      },
      "execution_count": null,
      "outputs": []
    },
    {
      "cell_type": "code",
      "source": [
        "#objectif 5\n",
        "def quick_sort(array, start, end):\n",
        "    if start >= end:\n",
        "        return\n",
        "\n",
        "    p = partition(array, start, end)\n",
        "    quick_sort(array, start, p-1)\n",
        "    quick_sort(array, p+1, end)\n",
        "\n",
        "\n",
        "def partition(array, start, end):\n",
        "    pivot = array[start]\n",
        "    low = start + 1\n",
        "    high = end\n",
        "    while True:\n",
        "        # If the current value we're looking at is larger than the pivot\n",
        "        # it's in the right place (right side of pivot) and we can move left,\n",
        "        # to the next element.\n",
        "        # We also need to make sure we haven't surpassed the low pointer, since that\n",
        "        # indicates we have already moved all the elements to their correct side of the pivot\n",
        "        while low <= high and array[high] >= pivot:\n",
        "            high = high - 1\n",
        "\n",
        "        # Opposite process of the one above\n",
        "        while low <= high and array[low] <= pivot:\n",
        "            low = low + 1\n",
        "\n",
        "        # We either found a value for both high and low that is out of order\n",
        "        # or low is higher than high, in which case we exit the loop\n",
        "        if low <= high:\n",
        "            array[low], array[high] = array[high], array[low]\n",
        "            # The loop continues\n",
        "        else:\n",
        "            # We exit out of the loop\n",
        "            break\n",
        "\n",
        "    array[start], array[high] = array[high], array[start]\n",
        "\n",
        "    return high\n",
        "\n",
        "\n",
        "array = [29,13,22,37,52,49,46,71,56]\n",
        "quick_sort(array, 0, len(array) - 1)\n",
        "print(array)\n"
      ],
      "metadata": {
        "id": "dh8Z-cjGi7s-"
      },
      "execution_count": null,
      "outputs": []
    }
  ]
}