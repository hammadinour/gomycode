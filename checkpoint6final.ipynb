{
  "nbformat": 4,
  "nbformat_minor": 0,
  "metadata": {
    "colab": {
      "provenance": [],
      "authorship_tag": "ABX9TyP4RuS1a6/D2iZLNUg0pstl",
      "include_colab_link": true
    },
    "kernelspec": {
      "name": "python3",
      "display_name": "Python 3"
    },
    "language_info": {
      "name": "python"
    }
  },
  "cells": [
    {
      "cell_type": "markdown",
      "metadata": {
        "id": "view-in-github",
        "colab_type": "text"
      },
      "source": [
        "<a href=\"https://colab.research.google.com/github/hammadinour/gomycode/blob/main/checkpoint6final.ipynb\" target=\"_parent\"><img src=\"https://colab.research.google.com/assets/colab-badge.svg\" alt=\"Open In Colab\"/></a>"
      ]
    },
    {
      "cell_type": "code",
      "source": [
        "from numpy.core.fromnumeric import shape\n",
        "import numpy as np\n",
        "students_num =int (input('enter the number of students'))\n",
        "subjects_num = int(input('enter the number of subjects'))\n",
        "array = np.zeros((students_num,subjects_num))\n",
        "print (array)\n",
        "array.shape\n",
        "for j in range (students_num) :\n",
        "   for i in range (subjects_num) :\n",
        "       array[j,i] = (int(input('insert mark')))\n",
        "\n",
        "# update\n",
        "for i in range(0,students_num):\n",
        "  percentage = (sum(array[i])/(subjects_num*100))*100\n",
        "\n",
        "  if percentage >= 90 :\n",
        "    grade = 'A+'\n",
        "  elif percentage >= 80 :\n",
        "    grade = 'A'\n",
        "  elif percentage >=70 :\n",
        "    grade = 'B+'\n",
        "  elif percentage >= 60 :\n",
        "    grade = 'B'\n",
        "  elif percentage >= 50 :\n",
        "    grade = 'C'\n",
        "  else :\n",
        "    grade = 'F'\n",
        "  print('student nb: ',i,'  Grade: ',grade, ' percentage: ',percentage)\n",
        ""
      ],
      "metadata": {
        "id": "lZa-Qva4zNBQ",
        "outputId": "86b4ffdf-9768-44c7-910e-f8c701f87289",
        "colab": {
          "base_uri": "https://localhost:8080/"
        }
      },
      "execution_count": 61,
      "outputs": [
        {
          "output_type": "stream",
          "name": "stdout",
          "text": [
            "enter the number of students2\n",
            "enter the number of subjects2\n",
            "[[0. 0.]\n",
            " [0. 0.]]\n",
            "insert mark10\n",
            "insert mark10\n",
            "insert mark100\n",
            "insert mark100\n",
            "student nb:  0   Grade:  F  percentage:  10.0\n",
            "student nb:  1   Grade:  A+  percentage:  100.0\n"
          ]
        }
      ]
    }
  ]
}