{
  "nbformat": 4,
  "nbformat_minor": 0,
  "metadata": {
    "colab": {
      "provenance": [],
      "authorship_tag": "ABX9TyPWCrvtJz0FwVIXNS2RIcAm",
      "include_colab_link": true
    },
    "kernelspec": {
      "name": "python3",
      "display_name": "Python 3"
    },
    "language_info": {
      "name": "python"
    }
  },
  "cells": [
    {
      "cell_type": "markdown",
      "metadata": {
        "id": "view-in-github",
        "colab_type": "text"
      },
      "source": [
        "<a href=\"https://colab.research.google.com/github/hammadinour/gomycode/blob/main/checkpoint5final.ipynb\" target=\"_parent\"><img src=\"https://colab.research.google.com/assets/colab-badge.svg\" alt=\"Open In Colab\"/></a>"
      ]
    },
    {
      "cell_type": "code",
      "source": [
        "#objectif 1 :\n",
        "class Point3D :\n",
        "  def __init__(self,x,y,z):\n",
        "    self.x=x\n",
        "    self.y=y\n",
        "    self.z=z\n",
        "  def position (self) :\n",
        "    return \"({},{},{})\".format(self.x,self.y,self.z)\n",
        "my_point = Point3D(1,2,3)\n",
        "print(my_point.position())"
      ],
      "metadata": {
        "id": "8Cs9xWQ3tGbF"
      },
      "execution_count": null,
      "outputs": []
    },
    {
      "cell_type": "code",
      "source": [
        "#objectif 2 :\n",
        "class rectangle :\n",
        "  def __init__(self,length,width) :\n",
        "    self.length=length\n",
        "    self.width=width\n",
        "  #methode 1 :\n",
        "  def area (self):\n",
        "    return (int(self.length)*int(self.width))\n",
        " #methode 2 :\n",
        "  def perimeter (self):\n",
        "    return(2*(int(self.length)+int(self.width)))\n",
        "my_rectangle = rectangle (4,3)\n",
        "print (my_rectangle.area())\n",
        "print (my_rectangle.perimeter())\n"
      ],
      "metadata": {
        "id": "3pjTZJ9qwaZr"
      },
      "execution_count": null,
      "outputs": []
    },
    {
      "cell_type": "code",
      "source": [
        "#objectif 3 :\n",
        "class circle :\n",
        "  def __init__(self,center,radius) :\n",
        "    self.center =center\n",
        "    self.radius =radius\n",
        "\n",
        "    #methode 1 :\n",
        "  def area (self):\n",
        "    pi = float(3.14)\n",
        "    return ((int(self.radius)**2)*pi)\n",
        " #methode 2 :\n",
        "  def perimeter (self):\n",
        "    pi = float(3.14)\n",
        "    return (int(self.radius)*2*pi)\n",
        "my_circle = circle(0,3)\n",
        "print ('(',my_circle.area(),',',my_circle.perimeter(),')')\n",
        "\n",
        "\n",
        "def A (x,y) :\n",
        "   if  x < my_circle.radius and y < my_circle.radius  :\n",
        "       print ('A in the circle')\n",
        "   else :\n",
        "       print ('A not in the circle')\n",
        "print (A (4,2))"
      ],
      "metadata": {
        "id": "wOPZzqkw5Yt1"
      },
      "execution_count": null,
      "outputs": []
    },
    {
      "cell_type": "code",
      "source": [
        "#objectif 4\n",
        "class bank :\n",
        "  def __init__(self,balance) :\n",
        "    self.balance = balance\n",
        "  #methode 1 :\n",
        "  def deposit (self):\n",
        "    print('amount?')\n",
        "    dep = input()\n",
        "    return (int(self.balance)+ int(dep))\n",
        "  #methode 2 :\n",
        "  def withdraw (self) :\n",
        "    print('amount?')\n",
        "    withd = input()\n",
        "    return (int(self.balance) - int(withd))\n",
        "account= bank(100)\n",
        "print('operation?')\n",
        "operation = input()\n",
        "if operation == 'withdraw' :\n",
        "   print ('total balance is now ',account.withdraw())\n",
        "else :\n",
        "   print ('total balance is now ',account.deposit())"
      ],
      "metadata": {
        "id": "FWXH_m1fa4Is"
      },
      "execution_count": null,
      "outputs": []
    }
  ]
}