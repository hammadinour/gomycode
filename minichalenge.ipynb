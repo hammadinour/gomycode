{
  "nbformat": 4,
  "nbformat_minor": 0,
  "metadata": {
    "colab": {
      "provenance": [],
      "authorship_tag": "ABX9TyMeXN/m10HJ657fSV/ip/vd",
      "include_colab_link": true
    },
    "kernelspec": {
      "name": "python3",
      "display_name": "Python 3"
    },
    "language_info": {
      "name": "python"
    }
  },
  "cells": [
    {
      "cell_type": "markdown",
      "metadata": {
        "id": "view-in-github",
        "colab_type": "text"
      },
      "source": [
        "<a href=\"https://colab.research.google.com/github/hammadinour/gomycode/blob/main/minichalenge.ipynb\" target=\"_parent\"><img src=\"https://colab.research.google.com/assets/colab-badge.svg\" alt=\"Open In Colab\"/></a>"
      ]
    },
    {
      "cell_type": "code",
      "source": [
        "\n",
        "i=int(0)\n",
        "def produit (list,x):\n",
        " while i <= (len(list) - 1 ) :\n",
        "    list [i] =(int(list[i]) * x)\n",
        "list =[2,4,9]\n",
        "x=int(2)\n",
        "print(produit(list,x))"
      ],
      "metadata": {
        "id": "WmJD9jCKpXly"
      },
      "execution_count": null,
      "outputs": []
    },
    {
      "cell_type": "code",
      "source": [
        "list =[2,4,9]\n",
        "x=int(2)\n",
        "i=int(0)\n",
        "while i <= (len(list) - 1 ) :\n",
        "    list [i] =(int(list[i]) * x)\n",
        "\n",
        "print(list)"
      ],
      "metadata": {
        "id": "pX-0W6DMsxEH"
      },
      "execution_count": null,
      "outputs": []
    }
  ]
}