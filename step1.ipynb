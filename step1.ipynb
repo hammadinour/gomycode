{
  "nbformat": 4,
  "nbformat_minor": 0,
  "metadata": {
    "colab": {
      "provenance": [],
      "authorship_tag": "ABX9TyMdxLHL5mB64EPEiWcV7cm1",
      "include_colab_link": true
    },
    "kernelspec": {
      "name": "python3",
      "display_name": "Python 3"
    },
    "language_info": {
      "name": "python"
    }
  },
  "cells": [
    {
      "cell_type": "markdown",
      "metadata": {
        "id": "view-in-github",
        "colab_type": "text"
      },
      "source": [
        "<a href=\"https://colab.research.google.com/github/hammadinour/gomycode/blob/main/step1.ipynb\" target=\"_parent\"><img src=\"https://colab.research.google.com/assets/colab-badge.svg\" alt=\"Open In Colab\"/></a>"
      ]
    },
    {
      "cell_type": "code",
      "source": [
        "import Tkinter as tk\n",
        "import tkinter.messagebox\n",
        "\n",
        "window = tk.Tk()\n",
        "window.title(\"TIC-TAC-TOE\")\n",
        "\n",
        "digits=[1,2,3,4,5,6,7,8,9]\n",
        "\n",
        "mark =\" \"\n",
        "count= 0\n",
        "\n",
        "panels =['panel',(0,0),(0,1),(0,2),(1,0),(1,1),(1,2),(2,0),(2,1),(2,2)]\n"
      ],
      "metadata": {
        "id": "JI-HmuvRLzaW"
      },
      "execution_count": null,
      "outputs": []
    }
  ]
}