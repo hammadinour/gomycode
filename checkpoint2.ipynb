{
  "nbformat": 4,
  "nbformat_minor": 0,
  "metadata": {
    "colab": {
      "provenance": [],
      "authorship_tag": "ABX9TyMXpWpSBFi4CY8oFj5Plr/0",
      "include_colab_link": true
    },
    "kernelspec": {
      "name": "python3",
      "display_name": "Python 3"
    },
    "language_info": {
      "name": "python"
    }
  },
  "cells": [
    {
      "cell_type": "markdown",
      "metadata": {
        "id": "view-in-github",
        "colab_type": "text"
      },
      "source": [
        "<a href=\"https://colab.research.google.com/github/hammadinour/gomycode/blob/main/checkpoint2.ipynb\" target=\"_parent\"><img src=\"https://colab.research.google.com/assets/colab-badge.svg\" alt=\"Open In Colab\"/></a>"
      ]
    },
    {
      "cell_type": "code",
      "source": [
        "print ('Welcome to the Guess the Number game!')\n",
        "print('I am thinking of a number between 1 and 100. Can you guess what it is?')\n",
        "print ('Enter your guess:')\n",
        "n=input()\n",
        "import random\n",
        "a=list(range(0,101))\n",
        "item=random.choice(a)\n",
        "\n",
        "while int (n) != item :\n",
        "   if int(n)>item :\n",
        "         print('Your guess is too high. Guess again.')\n",
        "         n=input()\n",
        "   elif int(n)<item :\n",
        "         print('Your guess is too low. Guess again.')\n",
        "         n=input()\n",
        "if int(n)==item :\n",
        "    print ('your guess is correct')"
      ],
      "metadata": {
        "id": "7zzEnql8il55",
        "outputId": "19ea27ca-01f3-430e-8048-6c65a461bd8b",
        "colab": {
          "base_uri": "https://localhost:8080/"
        }
      },
      "execution_count": 58,
      "outputs": [
        {
          "output_type": "stream",
          "name": "stdout",
          "text": [
            "Welcome to the Guess the Number game!\n",
            "I am thinking of a number between 1 and 100. Can you guess what it is?\n",
            "Enter your guess:\n",
            "15\n",
            "48\n",
            "Your guess is too low. Guess again.\n",
            "50\n",
            "Your guess is too high. Guess again.\n",
            "48\n",
            "your guess is correct\n"
          ]
        }
      ]
    }
  ]
}