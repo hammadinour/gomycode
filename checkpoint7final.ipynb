{
  "nbformat": 4,
  "nbformat_minor": 0,
  "metadata": {
    "colab": {
      "provenance": [],
      "authorship_tag": "ABX9TyO4Jlex6XLeq5TLbYcqd2YS",
      "include_colab_link": true
    },
    "kernelspec": {
      "name": "python3",
      "display_name": "Python 3"
    },
    "language_info": {
      "name": "python"
    }
  },
  "cells": [
    {
      "cell_type": "markdown",
      "metadata": {
        "id": "view-in-github",
        "colab_type": "text"
      },
      "source": [
        "<a href=\"https://colab.research.google.com/github/hammadinour/gomycode/blob/main/checkpoint7final.ipynb\" target=\"_parent\"><img src=\"https://colab.research.google.com/assets/colab-badge.svg\" alt=\"Open In Colab\"/></a>"
      ]
    },
    {
      "cell_type": "markdown",
      "source": [
        "Delete rows with Nan values.\n",
        "Extract the 'name' and 'score' columns from the DataFrame.\n",
        "Write a Pandas program to append a new row 'k' to the DataFrame with these values (name: \"Suresh\", score: 15.5, attempts: 1, qualify: \"yes\").\n",
        "Write a Pandas program to delete the 'attempts' column from the DataFrame.\n",
        "Add a new column \"Success\": if the score is higher than 10 we will have 1, else we will have 0.\n",
        "After executing the final DataFrame, export it into a CSV file named \"my_data\"."
      ],
      "metadata": {
        "id": "qHPMuzxwa80Y"
      }
    },
    {
      "cell_type": "code",
      "source": [
        "from numpy import row_stack\n",
        "import pandas as pd\n",
        "exam_data = {'name': ['Anastasia', 'Dima', 'Katherine', 'James', 'Emily', 'Michael', 'Matthew', 'Laura', 'Kevin', 'Jonas'],\n",
        "\n",
        "'score': [12.5, 9, 16.5, 'nan', 9, 20, 14.5, 'nan', 8, 19],\n",
        "\n",
        "'attempts': [1, 3, 2, 3, 2, 3, 1, 1, 2, 1],\n",
        "\n",
        "'qualify': ['yes', 'no', 'yes', 'no', 'no', 'yes', 'yes', 'no', 'no', 'yes']}\n",
        "\n",
        "labels = ['a', 'b', 'c', 'd', 'e', 'f', 'g', 'h', 'i', 'j']\n",
        "\n",
        "df = pd.DataFrame(exam_data , columns =['name', 'score', 'attempts','qualify'], index=labels)\n",
        "#print(df)\n",
        "#print(df.head(3))\n",
        "\n",
        "df = df.drop(df[df['score']=='nan'].index)\n",
        "#print(df)\n",
        "#print(df[['name','score']])\n",
        "add1={'name': \"Suresh\", 'score': 15.5, 'attempts': 1, 'qualify': \"yes\"}\n",
        "labels.append ('k')\n",
        "data1 = pd.DataFrame (add1 ,columns =['name', 'score', 'attempts','qualify'], index=['k'])\n",
        "df = pd.concat([df,data1])\n",
        "#df =df.drop (columns ='attempts',axis = 1)\n",
        "\n",
        "\n",
        "\n",
        "#df['success'] = bool (df['score'])\n",
        "#df.success ()= bool(df.score >= 10)\n",
        "\n",
        "df['success']= (df.score >= 10 )\n",
        "for i in range (len(df['success'])):\n",
        "\tif df['success'][i] == True:\n",
        "\t\tdf['success'][i] = 1\n",
        "\telse:\n",
        "\t\tdf['success'][i] = 0\n",
        "\n",
        "#print(df)\n",
        "df.to_csv('my_data')\n",
        "new=pd.read_csv('my_data')\n",
        "print(new)"
      ],
      "metadata": {
        "id": "8NZnhFziZt40",
        "outputId": "a7f789df-8fd4-42ed-f431-d93426aa95c6",
        "colab": {
          "base_uri": "https://localhost:8080/"
        }
      },
      "execution_count": 145,
      "outputs": [
        {
          "output_type": "stream",
          "name": "stdout",
          "text": [
            "  Unnamed: 0       name  score  attempts qualify  success\n",
            "0          a  Anastasia   12.5         1     yes        1\n",
            "1          b       Dima    9.0         3      no        0\n",
            "2          c  Katherine   16.5         2     yes        1\n",
            "3          e      Emily    9.0         2      no        0\n",
            "4          f    Michael   20.0         3     yes        1\n",
            "5          g    Matthew   14.5         1     yes        1\n",
            "6          i      Kevin    8.0         2      no        0\n",
            "7          j      Jonas   19.0         1     yes        1\n",
            "8          k     Suresh   15.5         1     yes        1\n"
          ]
        },
        {
          "output_type": "stream",
          "name": "stderr",
          "text": [
            "<ipython-input-145-6c48214c33ae>:34: SettingWithCopyWarning: \n",
            "A value is trying to be set on a copy of a slice from a DataFrame\n",
            "\n",
            "See the caveats in the documentation: https://pandas.pydata.org/pandas-docs/stable/user_guide/indexing.html#returning-a-view-versus-a-copy\n",
            "  df['success'][i] = 1\n"
          ]
        }
      ]
    }
  ]
}