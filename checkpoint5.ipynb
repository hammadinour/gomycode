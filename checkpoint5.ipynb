{
  "nbformat": 4,
  "nbformat_minor": 0,
  "metadata": {
    "colab": {
      "provenance": [],
      "authorship_tag": "ABX9TyOxzUSrapmWlcLkoHMT3ctT",
      "include_colab_link": true
    },
    "kernelspec": {
      "name": "python3",
      "display_name": "Python 3"
    },
    "language_info": {
      "name": "python"
    }
  },
  "cells": [
    {
      "cell_type": "markdown",
      "metadata": {
        "id": "view-in-github",
        "colab_type": "text"
      },
      "source": [
        "<a href=\"https://colab.research.google.com/github/hammadinour/gomycode/blob/main/checkpoint5.ipynb\" target=\"_parent\"><img src=\"https://colab.research.google.com/assets/colab-badge.svg\" alt=\"Open In Colab\"/></a>"
      ]
    },
    {
      "cell_type": "code",
      "source": [
        "# parent class\n",
        "class Bird:\n",
        "\n",
        "    def __init__(self):\n",
        "        print(\"Bird is ready\")\n",
        "\n",
        "    def whoisThis(self):\n",
        "        print(\"Bird\")\n",
        "\n",
        "\n",
        "def swim(self):\n",
        "\t\tprint(\"Swim faster\")\n",
        "\n",
        "# child class\n",
        "class Penguin(Bird):\n",
        "\n",
        "def __init__(self):\n",
        "\t\t# call super() function\n",
        "\t\tsuper().__init__()\n",
        "\t\tprint(\"Penguin is ready\")\n",
        "\n",
        "def whoisThis(self):\n",
        "\t\tprint(\"Penguin\")\n",
        "\n",
        "def run(self):\n",
        "\t\tprint(\"Run faster\")\n",
        "\n",
        "peggy = Penguin()\n",
        "peggy.whoisThis()\n",
        "peggy.swim()\n",
        "peggy.run()"
      ],
      "metadata": {
        "id": "RhPItzV4pXfy"
      },
      "execution_count": null,
      "outputs": []
    },
    {
      "cell_type": "code",
      "source": [
        "#objectif 1 :\n",
        "class Point3D :\n",
        "  def __init__(self,x,y,z):\n",
        "    self.x=x\n",
        "    self.y=y\n",
        "    self.z=z\n",
        "  def position (self) :\n",
        "    return \"({},{},{})\".format(self.x,self.y,self.z)\n",
        "my_point = Point3D(1,2,3)\n",
        "print(my_point.position())"
      ],
      "metadata": {
        "id": "8Cs9xWQ3tGbF"
      },
      "execution_count": null,
      "outputs": []
    },
    {
      "cell_type": "code",
      "source": [
        "#objectif 2 :\n",
        "class rectangle :\n",
        "  def __init__(self,length,width) :\n",
        "    self.length=length\n",
        "    self.width=width\n",
        "  #methode 1 :\n",
        "  def area (self):\n",
        "    return (int(self.length)*int(self.width))\n",
        " #methode 2 :\n",
        "  def perimeter (self):\n",
        "    return(2*(int(self.length)+int(self.width)))\n",
        "my_rectangle = rectangle (4,3)\n",
        "print (my_rectangle.area())\n",
        "print (my_rectangle.perimeter())\n"
      ],
      "metadata": {
        "id": "3pjTZJ9qwaZr"
      },
      "execution_count": null,
      "outputs": []
    },
    {
      "cell_type": "code",
      "source": [
        "Write a Python  class named Circle constructed by its center O and radius r. Define two methods, area and perimeter, which will compute the area and the perimeter of the circle,\n",
        "and is Inside() method which allows you to test whether a point A(x, y) belongs to the circle C(O, r) or not."
      ],
      "metadata": {
        "id": "or53A1Ui5T_n"
      },
      "execution_count": null,
      "outputs": []
    },
    {
      "cell_type": "code",
      "source": [
        "class Circle :\n",
        "  def __init__(self,center,radius) :\n",
        "    self.center ='o'\n",
        "    self.radius ='r'\n",
        "    #methode 1 :\n",
        "  def area (self):\n",
        "    return (int(self.length)*int(self.width))\n",
        " #methode 2 :\n",
        "  def perimeter (self):\n",
        "    return(2*(int(self.length)+int(self.width)))\n"
      ],
      "metadata": {
        "id": "wOPZzqkw5Yt1"
      },
      "execution_count": null,
      "outputs": []
    }
  ]
}